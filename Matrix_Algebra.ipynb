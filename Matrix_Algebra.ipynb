{
  "nbformat": 4,
  "nbformat_minor": 0,
  "metadata": {
    "colab": {
      "name": "Matrix Algebra.ipynb",
      "provenance": [],
      "authorship_tag": "ABX9TyNYLk65PeLIpHzlPEur+nXi",
      "include_colab_link": true
    },
    "kernelspec": {
      "name": "python3",
      "display_name": "Python 3"
    },
    "language_info": {
      "name": "python"
    }
  },
  "cells": [
    {
      "cell_type": "markdown",
      "metadata": {
        "id": "view-in-github",
        "colab_type": "text"
      },
      "source": [
        "<a href=\"https://colab.research.google.com/github/AllanGonzales/Matrix-Algebra/blob/main/Matrix_Algebra.ipynb\" target=\"_parent\"><img src=\"https://colab.research.google.com/assets/colab-badge.svg\" alt=\"Open In Colab\"/></a>"
      ]
    },
    {
      "cell_type": "markdown",
      "metadata": {
        "id": "7yqZ7dqTnYCu"
      },
      "source": [
        "Program to Inverse:"
      ]
    },
    {
      "cell_type": "code",
      "metadata": {
        "colab": {
          "base_uri": "https://localhost:8080/"
        },
        "id": "vbOe5BtAm4fJ",
        "outputId": "89d43a73-e063-4013-c2be-2f133c158e95"
      },
      "source": [
        "import numpy as np\n",
        "A= np.array ([[2,3,4],[1,5,6],[8,9,1]])\n",
        "B= (np.linalg.inv(A))\n",
        "print(B)"
      ],
      "execution_count": 2,
      "outputs": [
        {
          "output_type": "stream",
          "name": "stdout",
          "text": [
            "[[ 0.60493827 -0.40740741  0.02469136]\n",
            " [-0.58024691  0.37037037  0.09876543]\n",
            " [ 0.38271605 -0.07407407 -0.08641975]]\n"
          ]
        }
      ]
    },
    {
      "cell_type": "markdown",
      "metadata": {
        "id": "UziZIqyendFU"
      },
      "source": [
        "Transpose:"
      ]
    },
    {
      "cell_type": "code",
      "metadata": {
        "colab": {
          "base_uri": "https://localhost:8080/"
        },
        "id": "HvulEEqrnfG0",
        "outputId": "57993362-e948-4c0d-95dd-642b2a8a8eee"
      },
      "source": [
        "A= np.array ([[2,3,4],[1,5,6],[8,9,1]])\n",
        "print(A)\n",
        "B = np.transpose(A)\n",
        "print(B)\n"
      ],
      "execution_count": 3,
      "outputs": [
        {
          "output_type": "stream",
          "name": "stdout",
          "text": [
            "[[2 3 4]\n",
            " [1 5 6]\n",
            " [8 9 1]]\n",
            "[[2 1 8]\n",
            " [3 5 9]\n",
            " [4 6 1]]\n"
          ]
        }
      ]
    }
  ]
}